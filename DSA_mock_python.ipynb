{
 "cells": [
  {
   "cell_type": "code",
   "execution_count": 3,
   "id": "f4f5b31e-620a-4100-ab76-20f96ae08fdd",
   "metadata": {},
   "outputs": [
    {
     "name": "stdout",
     "output_type": "stream",
     "text": [
      "[1, 3, 12, 0, 0]\n"
     ]
    }
   ],
   "source": [
    "class Solution:\n",
    "    def Move_Zeros(L):\n",
    "        left = 0\n",
    "        right = 0\n",
    "\n",
    "        while right < len(L):\n",
    "            if L[right] != 0:\n",
    "                L[left],L[right] = L[right],L[left]\n",
    "                left += 1\n",
    "            right += 1\n",
    "\n",
    "L = [0,1,0,3,12]\n",
    "Move_Zeros(L)\n",
    "print(L)"
   ]
  },
  {
   "cell_type": "code",
   "execution_count": 7,
   "id": "1e56f9d7-a666-4943-abb9-5f8ea3cb19c5",
   "metadata": {},
   "outputs": [
    {
     "name": "stdout",
     "output_type": "stream",
     "text": [
      "2\n"
     ]
    }
   ],
   "source": [
    "def index(string):\n",
    "    string_count = {}\n",
    "    count = 0\n",
    "    \n",
    "    for word in string:\n",
    "        if word in string_count:\n",
    "            string_count[word] += 1\n",
    "        else:\n",
    "            string_count[word] = 1\n",
    "            \n",
    "    for single_word,frequency in enumerate(string_count):\n",
    "        if string_count[frequency] == 1:\n",
    "            return single_word\n",
    "        \n",
    "    return -1\n",
    "\n",
    "string = \"loveleetcode\"\n",
    "# string = \"leetcode\"\n",
    "# string = \"aabb\"\n",
    "result = index(string)\n",
    "print(result)"
   ]
  },
  {
   "cell_type": "code",
   "execution_count": null,
   "id": "3fd8edd5-b778-4783-b188-f98002c7af69",
   "metadata": {},
   "outputs": [],
   "source": []
  }
 ],
 "metadata": {
  "kernelspec": {
   "display_name": "Python 3 (ipykernel)",
   "language": "python",
   "name": "python3"
  },
  "language_info": {
   "codemirror_mode": {
    "name": "ipython",
    "version": 3
   },
   "file_extension": ".py",
   "mimetype": "text/x-python",
   "name": "python",
   "nbconvert_exporter": "python",
   "pygments_lexer": "ipython3",
   "version": "3.10.8"
  }
 },
 "nbformat": 4,
 "nbformat_minor": 5
}
